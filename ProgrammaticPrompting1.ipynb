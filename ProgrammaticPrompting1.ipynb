{
  "nbformat": 4,
  "nbformat_minor": 0,
  "metadata": {
    "colab": {
      "provenance": [],
      "include_colab_link": true
    },
    "kernelspec": {
      "name": "python3",
      "display_name": "Python 3"
    },
    "language_info": {
      "name": "python"
    }
  },
  "cells": [
    {
      "cell_type": "markdown",
      "metadata": {
        "id": "view-in-github",
        "colab_type": "text"
      },
      "source": [
        "<a href=\"https://colab.research.google.com/github/percifal92/Cours-Coursera-Agents/blob/main/ProgrammaticPrompting1.ipynb\" target=\"_parent\"><img src=\"https://colab.research.google.com/assets/colab-badge.svg\" alt=\"Open In Colab\"/></a>"
      ]
    },
    {
      "cell_type": "code",
      "source": [
        "!!pip install litellm\n",
        "\n",
        "# Important!!!\n",
        "#\n",
        "# <---- Set your 'OPENAI_API_KEY' as a secret over there with the \"key\" icon\n",
        "#\n",
        "#\n",
        "import os\n",
        "from google.colab import userdata\n",
        "api_key = userdata.get('OPENAI_API_KEY')\n",
        "os.environ['OPENAI_API_KEY'] = api_key"
      ],
      "metadata": {
        "id": "KEYrzG2vB8Ip"
      },
      "execution_count": 1,
      "outputs": []
    },
    {
      "cell_type": "code",
      "execution_count": 2,
      "metadata": {
        "colab": {
          "base_uri": "https://localhost:8080/"
        },
        "id": "Mwe2eeOQB0cC",
        "outputId": "31fdb611-8ea8-4623-a595-332de20dd8d0"
      },
      "outputs": [
        {
          "output_type": "stream",
          "name": "stdout",
          "text": [
            "Certainly! Swapping the keys and values in a dictionary can be accomplished with a functional programming approach. In Python, you can use a dictionary comprehension to achieve this. Here's a function that does this:\n",
            "\n",
            "```python\n",
            "def swap_keys_and_values(d):\n",
            "    if len(d) != len(set(d.values())):\n",
            "        raise ValueError(\"Duplicate values found, can't swap keys and values uniquely.\")\n",
            "    return {value: key for key, value in d.items()}\n",
            "\n",
            "# Example usage:\n",
            "original_dict = {'a': 1, 'b': 2, 'c': 3}\n",
            "swapped_dict = swap_keys_and_values(original_dict)\n",
            "print(swapped_dict)\n",
            "```\n",
            "\n",
            "### Explanation:\n",
            "- **Function Definition**: `swap_keys_and_values(d)` takes a dictionary `d` as input.\n",
            "- **Check for Duplicates**: The function first checks if there are duplicate values in the dictionary, as this would prevent a unique swap.\n",
            "- **Dictionary Comprehension**: `{value: key for key, value in d.items()}` creates a new dictionary by swapping each key-value pair.\n",
            "- **Return**: It returns a new dictionary with keys and values swapped.\n",
            "\n",
            "This function works under the assumption that all values in the input dictionary are unique because dictionary keys must be unique. If duplicate values exist in the input dictionary, a `ValueError` is raised.\n",
            "\n",
            "This approach is functional because it uses immutability and operates as a declarative expression rather than using loops or mutable state changes.\n"
          ]
        }
      ],
      "source": [
        "from litellm import completion\n",
        "from typing import List, Dict\n",
        "\n",
        "\n",
        "def generate_response(messages: List[Dict]) -> str:\n",
        "    \"\"\"Call LLM to get response\"\"\"\n",
        "    response = completion(\n",
        "        model=\"openai/gpt-4o\",\n",
        "        messages=messages,\n",
        "        max_tokens=1024\n",
        "    )\n",
        "    return response.choices[0].message.content\n",
        "\n",
        "\n",
        "messages = [\n",
        "    {\"role\": \"system\", \"content\": \"You are an expert software engineer that prefers functional programming.\"},\n",
        "    {\"role\": \"user\", \"content\": \"Write a function to swap the keys and values in a dictionary.\"}\n",
        "]\n",
        "\n",
        "response = generate_response(messages)\n",
        "print(response)"
      ]
    }
  ]
}